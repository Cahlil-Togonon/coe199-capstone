{
 "cells": [
  {
   "cell_type": "code",
   "execution_count": 22,
   "metadata": {},
   "outputs": [
    {
     "name": "stdout",
     "output_type": "stream",
     "text": [
      "          Sensor Name           X          Y  US AQI  source\n",
      "0   Baltazar_Caloocan  120.977881  14.647996    12.0    WAQI\n",
      "1              RENET1  121.068966  14.647362    23.0  UPCARE\n",
      "2                UPD1  121.072000  14.647400    95.0  UPCARE\n",
      "3                 PC1  121.069000  14.571700    94.0  UPCARE\n",
      "4                 TC1  121.041000  14.535600    27.0  UPCARE\n",
      "5                UPD2  121.071000  14.649800   106.0  UPCARE\n",
      "6                 MC1  120.981000  14.592400   108.0  UPCARE\n",
      "7              RENET3  121.062370  14.647500    19.0  UPCARE\n",
      "8              RENET4  121.064530  14.660710    16.0  UPCARE\n",
      "9             BAGUIO2  120.597128  16.410988    15.0  UPCARE\n",
      "10            BAGUIO1  120.595146  16.413536    87.0  UPCARE\n",
      "11             RENET5  121.073771  14.657549    16.0  UPCARE\n",
      "12             RENET6  121.069258  14.657391    32.0  UPCARE\n",
      "13             RENET2  121.071000  14.649800    61.0  UPCARE\n"
     ]
    }
   ],
   "source": [
    "import pandas as pd\n",
    "\n",
    "date_time = \"06-12-2024_10-31-11\"\n",
    "df = pd.read_csv(\"./temp/aqi_\"+date_time+\".csv\")\n",
    "\n",
    "print(df)"
   ]
  },
  {
   "cell_type": "code",
   "execution_count": 32,
   "metadata": {},
   "outputs": [
    {
     "name": "stdout",
     "output_type": "stream",
     "text": [
      "          Sensor Name           X          Y  US AQI  source\n",
      "0   Baltazar_Caloocan  120.977881  14.647996    12.0    WAQI\n",
      "1              RENET1  121.068966  14.647362    23.0  UPCARE\n",
      "2                UPD1  121.072000  14.647400    95.0  UPCARE\n",
      "3                 PC1  121.069000  14.571700    94.0  UPCARE\n",
      "4                 TC1  121.041000  14.535600    27.0  UPCARE\n",
      "5                UPD2  121.071000  14.649800   106.0  UPCARE\n",
      "6                 MC1  120.981000  14.592400   108.0  UPCARE\n",
      "7              RENET3  121.062370  14.647500    19.0  UPCARE\n",
      "8              RENET4  121.064530  14.660710    16.0  UPCARE\n",
      "11             RENET5  121.073771  14.657549    16.0  UPCARE\n",
      "12             RENET6  121.069258  14.657391    32.0  UPCARE\n",
      "13             RENET2  121.071000  14.649800    61.0  UPCARE\n"
     ]
    }
   ],
   "source": [
    "# drop really far sensors\n",
    "df = df.drop([9, 10])\n",
    "print(df)"
   ]
  },
  {
   "cell_type": "code",
   "execution_count": 33,
   "metadata": {},
   "outputs": [
    {
     "name": "stdout",
     "output_type": "stream",
     "text": [
      "[120.97788066 120.97888066 120.97988066 120.98088066 120.98188066\n",
      " 120.98288066 120.98388066 120.98488066 120.98588066 120.98688066\n",
      " 120.98788066 120.98888066 120.98988066 120.99088066 120.99188066\n",
      " 120.99288066 120.99388066 120.99488066 120.99588066 120.99688066\n",
      " 120.99788066 120.99888066 120.99988066 121.00088066 121.00188066\n",
      " 121.00288066 121.00388066 121.00488066 121.00588066 121.00688066\n",
      " 121.00788066 121.00888066 121.00988066 121.01088066 121.01188066\n",
      " 121.01288066 121.01388066 121.01488066 121.01588066 121.01688066\n",
      " 121.01788066 121.01888066 121.01988066 121.02088066 121.02188066\n",
      " 121.02288066 121.02388066 121.02488066 121.02588066 121.02688066\n",
      " 121.02788066 121.02888066 121.02988066 121.03088066 121.03188066\n",
      " 121.03288066 121.03388066 121.03488066 121.03588066 121.03688066\n",
      " 121.03788066 121.03888066 121.03988066 121.04088066 121.04188066\n",
      " 121.04288066 121.04388066 121.04488066 121.04588066 121.04688066\n",
      " 121.04788066 121.04888066 121.04988066 121.05088066 121.05188066\n",
      " 121.05288066 121.05388066 121.05488066 121.05588066 121.05688066\n",
      " 121.05788066 121.05888066 121.05988066 121.06088066 121.06188066\n",
      " 121.06288066 121.06388066 121.06488066 121.06588066 121.06688066\n",
      " 121.06788066 121.06888066 121.06988066 121.07088066 121.07188066\n",
      " 121.07288066]\n",
      "[14.5356 14.5366 14.5376 14.5386 14.5396 14.5406 14.5416 14.5426 14.5436\n",
      " 14.5446 14.5456 14.5466 14.5476 14.5486 14.5496 14.5506 14.5516 14.5526\n",
      " 14.5536 14.5546 14.5556 14.5566 14.5576 14.5586 14.5596 14.5606 14.5616\n",
      " 14.5626 14.5636 14.5646 14.5656 14.5666 14.5676 14.5686 14.5696 14.5706\n",
      " 14.5716 14.5726 14.5736 14.5746 14.5756 14.5766 14.5776 14.5786 14.5796\n",
      " 14.5806 14.5816 14.5826 14.5836 14.5846 14.5856 14.5866 14.5876 14.5886\n",
      " 14.5896 14.5906 14.5916 14.5926 14.5936 14.5946 14.5956 14.5966 14.5976\n",
      " 14.5986 14.5996 14.6006 14.6016 14.6026 14.6036 14.6046 14.6056 14.6066\n",
      " 14.6076 14.6086 14.6096 14.6106 14.6116 14.6126 14.6136 14.6146 14.6156\n",
      " 14.6166 14.6176 14.6186 14.6196 14.6206 14.6216 14.6226 14.6236 14.6246\n",
      " 14.6256 14.6266 14.6276 14.6286 14.6296 14.6306 14.6316 14.6326 14.6336\n",
      " 14.6346 14.6356 14.6366 14.6376 14.6386 14.6396 14.6406 14.6416 14.6426\n",
      " 14.6436 14.6446 14.6456 14.6466 14.6476 14.6486 14.6496 14.6506 14.6516\n",
      " 14.6526 14.6536 14.6546 14.6556 14.6566 14.6576 14.6586 14.6596 14.6606]\n"
     ]
    }
   ],
   "source": [
    "# import matplotlib.pyplot as plt\n",
    "import numpy as np\n",
    "import geopandas as gpd\n",
    "\n",
    "# import pykrige.kriging_tools as kt\n",
    "# from pykrige.ok import OrdinaryKriging\n",
    "\n",
    "data = df[[\"X\",\"Y\",\"US AQI\"]].to_numpy()\n",
    "\n",
    "gdf = gpd.read_file('./shapefiles/Philippines_Border.shp')\n",
    "\n",
    "bounds = gdf.total_bounds\n",
    "Xmin = bounds[0]\n",
    "Ymin = bounds[1]\n",
    "Xmax = bounds[2]\n",
    "Ymax = bounds[3]\n",
    "\n",
    "Xmin = min(df['X'])\n",
    "Xmax = max(df['X'])\n",
    "Ymin = min(df['Y'])\n",
    "Ymax = max(df['Y'])\n",
    "\n",
    "gridx = np.arange(Xmin, Xmax, 0.001)\n",
    "gridy = np.arange(Ymin, Ymax, 0.001)\n",
    "\n",
    "print(gridx)\n",
    "print(gridy)"
   ]
  },
  {
   "cell_type": "code",
   "execution_count": 34,
   "metadata": {},
   "outputs": [
    {
     "data": {
      "image/png": "[encoded data removed]",
      "text/plain": [
       "<Figure size 640x480 with 2 Axes>"
      ]
     },
     "metadata": {},
     "output_type": "display_data"
    }
   ],
   "source": [
    "import matplotlib.pyplot as plt\n",
    "import pykrige.kriging_tools as kt\n",
    "from pykrige.ok import OrdinaryKriging\n",
    "\n",
    "OK = OrdinaryKriging(\n",
    "    data[:, 0],\n",
    "    data[:, 1],\n",
    "    data[:, 2],\n",
    "    variogram_model=\"exponential\",\n",
    "    nlags = 6,\n",
    "    verbose=False,\n",
    "    enable_plotting=False,\n",
    "    exact_values=True,\n",
    "    coordinates_type=\"geographic\",\n",
    ")\n",
    "\n",
    "z_pred, ss = OK.execute(\"grid\", gridx, gridy)\n",
    "\n",
    "# kt.write_asc_grid(gridx, gridy, z, filename=\"output.asc\")\n",
    "\n",
    "fig, ax1 = plt.subplots()\n",
    "pos = ax1.imshow(z_pred, interpolation='none', extent=[Xmin,Xmax,Ymin,Ymax])\n",
    "fig.colorbar(pos, ax=ax1)\n",
    "plt.show()"
   ]
  },
  {
   "cell_type": "code",
   "execution_count": null,
   "metadata": {},
   "outputs": [
    {
     "name": "stdout",
     "output_type": "stream",
     "text": [
      "| 0.00, 0.00, 121.13|\n",
      "| 0.00,-0.00, 14.35|\n",
      "| 0.00, 0.00, 1.00|\n",
      "Raster file saved as: ./shapefiles/Philippines_Pollution_06-12-2024_10-31-11.tif\n"
     ]
    }
   ],
   "source": [
    "import rasterio\n",
    "from rasterio.transform import from_origin\n",
    "\n",
    "output_raster_path=\"./shapefiles/Philippines_Pollution_\"+date_time+\".tif\"\n",
    "pixel_size = 0.001\n",
    "\n",
    "transform = from_origin(gridx.min(), gridy.max(), pixel_size, pixel_size)\n",
    "\n",
    "print(transform)\n",
    "\n",
    "with rasterio.open(output_raster_path, 'w', driver='GTiff', \n",
    "            height=z_pred.shape[0], width=z_pred.shape[1],\n",
    "            count=1, dtype=z_pred.dtype,\n",
    "            crs='EPSG:4326', transform=transform) as dst:\n",
    "    dst.write(z_pred, 1)\n",
    "\n",
    "print(f\"Raster file saved as: {output_raster_path}\")"
   ]
  },
  {
   "cell_type": "code",
   "execution_count": 8,
   "metadata": {},
   "outputs": [
    {
     "name": "stdout",
     "output_type": "stream",
     "text": [
      "Raster file saved as: ./shapefiles/Philippines_Pollution_kriging.tif\n"
     ]
    }
   ],
   "source": [
    "import rasterio\n",
    "from rasterio.transform import from_origin\n",
    "\n",
    "# Define raster properties\n",
    "date_time = \"29-12-2023_21-46-49\"\n",
    "output_raster_path=\"./shapefiles/Philippines_Pollution_kriging.tif\"\n",
    "pixel_size = 0.001  # Resolution of the grid (adjust as necessary)\n",
    "\n",
    "# Create the transform for the raster (affine transformation from pixel space to world coordinates)\n",
    "transform = from_origin(gridx.min(), gridy.max(), pixel_size, pixel_size)\n",
    "\n",
    "# Write the result to a GeoTIFF\n",
    "with rasterio.open(output_raster_path, 'w', driver='GTiff', \n",
    "                   height=z.shape[0], width=z.shape[1],\n",
    "                   count=1, dtype=z.dtype,\n",
    "                   crs='EPSG:4326', transform=transform) as dst:\n",
    "    dst.write(z, 1)\n",
    "\n",
    "print(f\"Raster file saved as: {output_raster_path}\")"
   ]
  },
  {
   "cell_type": "code",
   "execution_count": null,
   "metadata": {},
   "outputs": [],
   "source": [
    "import rasterio\n",
    "import geopandas as gpd\n",
    "import pandas as pd\n",
    "\n",
    "date_time = \"29-12-2023_21-46-49\"\n",
    "input_point_shapefile=\"./shapefiles/Philippines_Pollution_\"+date_time+\".shp\"\n",
    "extent_shapefile=\"./shapefiles/Philippines_Border.shp\"\n",
    "blank_filename = extent_shapefile.rsplit('.', 1)[0] + '_blank.tif'\n",
    "resized_raster_name = blank_filename.rsplit('.', 1)[0] + '_resized.tif'\n",
    "\n",
    "with rasterio.open(resized_raster_name) as baseRasterFile:\n",
    "    inputPoints = gpd.read_file(input_point_shapefile)\n",
    "    # obser_df stands for observation_dataframe, lat, lon, data_value for each station will be stored here.\n",
    "    obser_df = pd.DataFrame()\n",
    "    obser_df['station_name'] = inputPoints.iloc[:, 0]\n",
    "\n",
    "    # create two list of indexes of station longitude, latitude in elevation raster file.\n",
    "    lons, lats = baseRasterFile.index(\n",
    "        [lon for lon in inputPoints.geometry.x],\n",
    "        [lat for lat in inputPoints.geometry.y])\n",
    "    obser_df['lon_index'] = lons\n",
    "    obser_df['lat_index'] = lats\n",
    "    obser_df['data_value'] = inputPoints['US AQI']"
   ]
  },
  {
   "cell_type": "code",
   "execution_count": null,
   "metadata": {},
   "outputs": [
    {
     "name": "stdout",
     "output_type": "stream",
     "text": [
      "Name: fiona\n",
      "Version: 1.9.5\n",
      "Summary: Fiona reads and writes spatial data files\n",
      "Home-page: \n",
      "Author: Sean Gillies\n",
      "Author-email: \n",
      "License: BSD 3-Clause\n",
      "Location: c:\\Users\\Smart I-Lab 2\\AppData\\Local\\Programs\\Python\\Python312\\Lib\\site-packages\n",
      "Requires: attrs, certifi, click, click-plugins, cligj, setuptools, six\n",
      "Required-by: geopandas\n",
      "Note: you may need to restart the kernel to use updated packages.\n"
     ]
    },
    {
     "name": "stderr",
     "output_type": "stream",
     "text": [
      "DEPRECATION: Loading egg at c:\\users\\smart i-lab 2\\appdata\\local\\programs\\python\\python312\\lib\\site-packages\\eventsource-1.2-py3.12.egg is deprecated. pip 24.3 will enforce this behaviour change. A possible replacement is to use pip for package installation.. Discussion can be found at https://github.com/pypa/pip/issues/12330\n"
     ]
    }
   ],
   "source": [
    "pip show fiona"
   ]
  }
 ],
 "metadata": {
  "kernelspec": {
   "display_name": "Python 3",
   "language": "python",
   "name": "python3"
  },
  "language_info": {
   "codemirror_mode": {
    "name": "ipython",
    "version": 3
   },
   "file_extension": ".py",
   "mimetype": "text/x-python",
   "name": "python",
   "nbconvert_exporter": "python",
   "pygments_lexer": "ipython3",
   "version": "3.12.1"
  }
 },
 "nbformat": 4,
 "nbformat_minor": 2
}
